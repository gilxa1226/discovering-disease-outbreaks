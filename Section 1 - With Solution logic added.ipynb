{
 "cells": [
  {
   "cell_type": "code",
   "execution_count": 2,
   "metadata": {},
   "outputs": [],
   "source": [
    "import geonamescache\n",
    "import pandas as pd\n",
    "import numpy as np\n",
    "import re\n",
    "from unidecode import unidecode\n",
    "\n",
    "gc = geonamescache.GeonamesCache()"
   ]
  },
  {
   "cell_type": "code",
   "execution_count": 3,
   "metadata": {
    "scrolled": false
   },
   "outputs": [],
   "source": [
    "###\n",
    "# Countries\n",
    "###\n",
    "countries = [country[\"name\"] for country in gc.get_countries().values()]\n",
    "country_accent_mapping = {\n",
    "    unidecode(country): country for country in countries\n",
    "}\n",
    "unaccented_countries = set(country_accent_mapping.keys())\n",
    "unaccented_countries = sorted(unaccented_countries, key=lambda x: len(x), reverse=True)\n",
    "countries_re = r\"\\b\" + r\"\\b|\\b\".join(unaccented_countries) + r\"\\b\"\n",
    "comp_country_re = re.compile(countries_re)\n",
    "\n",
    "###\n",
    "# Cities\n",
    "###\n",
    "\n",
    "cities = [city[\"name\"] for city in gc.get_cities().values()]\n",
    "city_accent_mapping = {\n",
    "    unidecode(city): city for city in cities\n",
    "}\n",
    "unaccented_cities = list(city_accent_mapping.keys())\n",
    "unaccented_cities = sorted(unaccented_cities, key=lambda x: len(x), reverse=True)\n",
    "city_re = r\"\\b\" + r\"\\b|\\b\".join(unaccented_cities) + r\"\\b\"\n",
    "comp_city_re = re.compile(city_re)\n",
    "\n"
   ]
  },
  {
   "cell_type": "code",
   "execution_count": 4,
   "metadata": {},
   "outputs": [],
   "source": [
    "###\n",
    "# Get file data\n",
    "###\n",
    "data = []\n",
    "file = open(\"data/headlines.txt\", 'r')\n",
    "for line in file.readlines():\n",
    "    data.append(unidecode(line.strip()))\n",
    "\n",
    "file.close()"
   ]
  },
  {
   "cell_type": "code",
   "execution_count": 5,
   "metadata": {},
   "outputs": [
    {
     "name": "stdout",
     "output_type": "stream",
     "text": [
      "                                              headline country           city\n",
      "0                             Zika Outbreak Hits Miami     NaN          Miami\n",
      "1                      Could Zika Reach New York City?     NaN  New York City\n",
      "2                    First Case of Zika in Miami Beach     NaN    Miami Beach\n",
      "3              Mystery Virus Spreads in Recife, Brazil  Brazil         Recife\n",
      "4              Dallas man comes down with case of Zika     NaN         Dallas\n",
      "..                                                 ...     ...            ...\n",
      "645  Rumors about Rabies spreading in Jerusalem hav...     NaN      Jerusalem\n",
      "646              More Zika patients reported in Indang     NaN         Indang\n",
      "647  Suva authorities confirmed the spread of Rotav...     NaN           Suva\n",
      "648         More Zika patients reported in Bella Vista     NaN    Bella Vista\n",
      "649                     Zika Outbreak in Wichita Falls     NaN  Wichita Falls\n",
      "\n",
      "[650 rows x 3 columns]\n"
     ]
    }
   ],
   "source": [
    "# Dataframe columns\n",
    "df_headline = []\n",
    "df_country = []\n",
    "df_city = []\n",
    "\n",
    "for line in data:\n",
    "    df_headline.append(line)\n",
    "    country_result = comp_country_re.search(line)\n",
    "    if country_result is not None:\n",
    "        df_country.append(country_result.group(0))\n",
    "    else:\n",
    "        df_country.append(np.NaN)\n",
    "    \n",
    "    city_result = comp_city_re.search(line)\n",
    "    if city_result is not None:\n",
    "        df_city.append(city_result.group(0))\n",
    "    else:\n",
    "        df_city.append(np.NaN)\n",
    "    \n",
    "df = pd.DataFrame({'headline': df_headline, 'country': df_country, 'city': df_city})\n",
    "\n",
    "df.to_csv(\"data/processedheadlines.csv\")\n",
    "\n",
    "print(df)\n",
    "\n"
   ]
  },
  {
   "cell_type": "code",
   "execution_count": 7,
   "metadata": {},
   "outputs": [
    {
     "name": "stdout",
     "output_type": "stream",
     "text": [
      "     Unnamed: 0                                           headline country  \\\n",
      "0             0                           Zika Outbreak Hits Miami     NaN   \n",
      "1             1                    Could Zika Reach New York City?     NaN   \n",
      "2             2                  First Case of Zika in Miami Beach     NaN   \n",
      "3             3            Mystery Virus Spreads in Recife, Brazil  Brazil   \n",
      "4             4            Dallas man comes down with case of Zika     NaN   \n",
      "..          ...                                                ...     ...   \n",
      "645         645  Rumors about Rabies spreading in Jerusalem hav...     NaN   \n",
      "646         646              More Zika patients reported in Indang     NaN   \n",
      "647         647  Suva authorities confirmed the spread of Rotav...     NaN   \n",
      "648         648         More Zika patients reported in Bella Vista     NaN   \n",
      "649         649                     Zika Outbreak in Wichita Falls     NaN   \n",
      "\n",
      "              city  \n",
      "0            Miami  \n",
      "1    New York City  \n",
      "2      Miami Beach  \n",
      "3           Recife  \n",
      "4           Dallas  \n",
      "..             ...  \n",
      "645      Jerusalem  \n",
      "646         Indang  \n",
      "647           Suva  \n",
      "648    Bella Vista  \n",
      "649  Wichita Falls  \n",
      "\n",
      "[650 rows x 4 columns]\n"
     ]
    }
   ],
   "source": [
    "new_df = pd.read_csv(\"data/processedheadlines.csv\")\n",
    "\n",
    "print(new_df)"
   ]
  },
  {
   "cell_type": "code",
   "execution_count": null,
   "metadata": {},
   "outputs": [],
   "source": []
  }
 ],
 "metadata": {
  "kernelspec": {
   "display_name": "Python 3",
   "language": "python",
   "name": "python3"
  },
  "language_info": {
   "codemirror_mode": {
    "name": "ipython",
    "version": 3
   },
   "file_extension": ".py",
   "mimetype": "text/x-python",
   "name": "python",
   "nbconvert_exporter": "python",
   "pygments_lexer": "ipython3",
   "version": "3.7.6"
  }
 },
 "nbformat": 4,
 "nbformat_minor": 4
}
